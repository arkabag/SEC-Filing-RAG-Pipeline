{
 "cells": [
  {
   "cell_type": "code",
   "execution_count": 1,
   "id": "d48f28e2",
   "metadata": {},
   "outputs": [
    {
     "name": "stdout",
     "output_type": "stream",
     "text": [
      "Requirement already satisfied: openai in /Users/arka_bagchi/opt/anaconda3/lib/python3.9/site-packages (1.3.7)\n",
      "Requirement already satisfied: anyio<4,>=3.5.0 in /Users/arka_bagchi/opt/anaconda3/lib/python3.9/site-packages (from openai) (3.5.0)\n",
      "Requirement already satisfied: distro<2,>=1.7.0 in /Users/arka_bagchi/opt/anaconda3/lib/python3.9/site-packages (from openai) (1.8.0)\n",
      "Requirement already satisfied: httpx<1,>=0.23.0 in /Users/arka_bagchi/opt/anaconda3/lib/python3.9/site-packages (from openai) (0.23.0)\n",
      "Requirement already satisfied: pydantic<3,>=1.9.0 in /Users/arka_bagchi/opt/anaconda3/lib/python3.9/site-packages (from openai) (1.10.12)\n",
      "Requirement already satisfied: sniffio in /Users/arka_bagchi/opt/anaconda3/lib/python3.9/site-packages (from openai) (1.2.0)\n",
      "Requirement already satisfied: tqdm>4 in /Users/arka_bagchi/opt/anaconda3/lib/python3.9/site-packages (from openai) (4.65.0)\n",
      "Requirement already satisfied: typing-extensions<5,>=4.5 in /Users/arka_bagchi/opt/anaconda3/lib/python3.9/site-packages (from openai) (4.5.0)\n",
      "Requirement already satisfied: idna>=2.8 in /Users/arka_bagchi/opt/anaconda3/lib/python3.9/site-packages (from anyio<4,>=3.5.0->openai) (2.10)\n",
      "Requirement already satisfied: certifi in /Users/arka_bagchi/opt/anaconda3/lib/python3.9/site-packages (from httpx<1,>=0.23.0->openai) (2023.7.22)\n",
      "Requirement already satisfied: rfc3986[idna2008]<2,>=1.3 in /Users/arka_bagchi/opt/anaconda3/lib/python3.9/site-packages (from httpx<1,>=0.23.0->openai) (1.5.0)\n",
      "Requirement already satisfied: httpcore<0.16.0,>=0.15.0 in /Users/arka_bagchi/opt/anaconda3/lib/python3.9/site-packages (from httpx<1,>=0.23.0->openai) (0.15.0)\n",
      "Requirement already satisfied: h11<0.13,>=0.11 in /Users/arka_bagchi/opt/anaconda3/lib/python3.9/site-packages (from httpcore<0.16.0,>=0.15.0->httpx<1,>=0.23.0->openai) (0.12.0)\n",
      "\u001b[33mDEPRECATION: textract 1.6.5 has a non-standard dependency specifier extract-msg<=0.29.*. pip 23.3 will enforce this behaviour change. A possible replacement is to upgrade to a newer version of textract or contact the author to suggest that they release a version with a conforming dependency specifiers. Discussion can be found at https://github.com/pypa/pip/issues/12063\u001b[0m\u001b[33m\n",
      "\u001b[0mRequirement already satisfied: pinecone-client in /Users/arka_bagchi/opt/anaconda3/lib/python3.9/site-packages (2.2.4)\n",
      "Requirement already satisfied: requests>=2.19.0 in /Users/arka_bagchi/opt/anaconda3/lib/python3.9/site-packages (from pinecone-client) (2.31.0)\n",
      "Requirement already satisfied: pyyaml>=5.4 in /Users/arka_bagchi/opt/anaconda3/lib/python3.9/site-packages (from pinecone-client) (6.0.1)\n",
      "Requirement already satisfied: loguru>=0.5.0 in /Users/arka_bagchi/opt/anaconda3/lib/python3.9/site-packages (from pinecone-client) (0.7.2)\n",
      "Requirement already satisfied: typing-extensions>=3.7.4 in /Users/arka_bagchi/opt/anaconda3/lib/python3.9/site-packages (from pinecone-client) (4.5.0)\n",
      "Requirement already satisfied: dnspython>=2.0.0 in /Users/arka_bagchi/opt/anaconda3/lib/python3.9/site-packages (from pinecone-client) (2.4.2)\n",
      "Requirement already satisfied: python-dateutil>=2.5.3 in /Users/arka_bagchi/opt/anaconda3/lib/python3.9/site-packages (from pinecone-client) (2.8.2)\n",
      "Requirement already satisfied: urllib3>=1.21.1 in /Users/arka_bagchi/opt/anaconda3/lib/python3.9/site-packages (from pinecone-client) (2.0.4)\n",
      "Requirement already satisfied: tqdm>=4.64.1 in /Users/arka_bagchi/opt/anaconda3/lib/python3.9/site-packages (from pinecone-client) (4.65.0)\n",
      "Requirement already satisfied: numpy>=1.22.0 in /Users/arka_bagchi/opt/anaconda3/lib/python3.9/site-packages (from pinecone-client) (1.26.2)\n",
      "Requirement already satisfied: six>=1.5 in /Users/arka_bagchi/opt/anaconda3/lib/python3.9/site-packages (from python-dateutil>=2.5.3->pinecone-client) (1.12.0)\n",
      "Requirement already satisfied: charset-normalizer<4,>=2 in /Users/arka_bagchi/opt/anaconda3/lib/python3.9/site-packages (from requests>=2.19.0->pinecone-client) (2.0.4)\n",
      "Requirement already satisfied: idna<4,>=2.5 in /Users/arka_bagchi/opt/anaconda3/lib/python3.9/site-packages (from requests>=2.19.0->pinecone-client) (2.10)\n",
      "Requirement already satisfied: certifi>=2017.4.17 in /Users/arka_bagchi/opt/anaconda3/lib/python3.9/site-packages (from requests>=2.19.0->pinecone-client) (2023.7.22)\n",
      "\u001b[33mDEPRECATION: textract 1.6.5 has a non-standard dependency specifier extract-msg<=0.29.*. pip 23.3 will enforce this behaviour change. A possible replacement is to upgrade to a newer version of textract or contact the author to suggest that they release a version with a conforming dependency specifiers. Discussion can be found at https://github.com/pypa/pip/issues/12063\u001b[0m\u001b[33m\n",
      "\u001b[0mRequirement already satisfied: langchain in /Users/arka_bagchi/opt/anaconda3/lib/python3.9/site-packages (0.0.345)\n",
      "Requirement already satisfied: PyYAML>=5.3 in /Users/arka_bagchi/opt/anaconda3/lib/python3.9/site-packages (from langchain) (6.0.1)\n",
      "Requirement already satisfied: SQLAlchemy<3,>=1.4 in /Users/arka_bagchi/opt/anaconda3/lib/python3.9/site-packages (from langchain) (1.4.41)\n",
      "Requirement already satisfied: aiohttp<4.0.0,>=3.8.3 in /Users/arka_bagchi/opt/anaconda3/lib/python3.9/site-packages (from langchain) (3.8.4)\n",
      "Requirement already satisfied: anyio<4.0 in /Users/arka_bagchi/opt/anaconda3/lib/python3.9/site-packages (from langchain) (3.5.0)\n",
      "Requirement already satisfied: async-timeout<5.0.0,>=4.0.0 in /Users/arka_bagchi/opt/anaconda3/lib/python3.9/site-packages (from langchain) (4.0.3)\n",
      "Requirement already satisfied: dataclasses-json<0.7,>=0.5.7 in /Users/arka_bagchi/opt/anaconda3/lib/python3.9/site-packages (from langchain) (0.5.14)\n",
      "Requirement already satisfied: jsonpatch<2.0,>=1.33 in /Users/arka_bagchi/opt/anaconda3/lib/python3.9/site-packages (from langchain) (1.33)\n",
      "Requirement already satisfied: langchain-core<0.1,>=0.0.9 in /Users/arka_bagchi/opt/anaconda3/lib/python3.9/site-packages (from langchain) (0.0.9)\n",
      "Requirement already satisfied: langsmith<0.1.0,>=0.0.63 in /Users/arka_bagchi/opt/anaconda3/lib/python3.9/site-packages (from langchain) (0.0.63)\n",
      "Requirement already satisfied: numpy<2,>=1 in /Users/arka_bagchi/opt/anaconda3/lib/python3.9/site-packages (from langchain) (1.26.2)\n",
      "Requirement already satisfied: pydantic<3,>=1 in /Users/arka_bagchi/opt/anaconda3/lib/python3.9/site-packages (from langchain) (1.10.12)\n",
      "Requirement already satisfied: requests<3,>=2 in /Users/arka_bagchi/opt/anaconda3/lib/python3.9/site-packages (from langchain) (2.31.0)\n",
      "Requirement already satisfied: tenacity<9.0.0,>=8.1.0 in /Users/arka_bagchi/opt/anaconda3/lib/python3.9/site-packages (from langchain) (8.2.3)\n",
      "Requirement already satisfied: attrs>=17.3.0 in /Users/arka_bagchi/opt/anaconda3/lib/python3.9/site-packages (from aiohttp<4.0.0,>=3.8.3->langchain) (22.1.0)\n",
      "Requirement already satisfied: charset-normalizer<4.0,>=2.0 in /Users/arka_bagchi/opt/anaconda3/lib/python3.9/site-packages (from aiohttp<4.0.0,>=3.8.3->langchain) (2.0.4)\n",
      "Requirement already satisfied: multidict<7.0,>=4.5 in /Users/arka_bagchi/opt/anaconda3/lib/python3.9/site-packages (from aiohttp<4.0.0,>=3.8.3->langchain) (6.0.4)\n",
      "Requirement already satisfied: yarl<2.0,>=1.0 in /Users/arka_bagchi/opt/anaconda3/lib/python3.9/site-packages (from aiohttp<4.0.0,>=3.8.3->langchain) (1.9.2)\n",
      "Requirement already satisfied: frozenlist>=1.1.1 in /Users/arka_bagchi/opt/anaconda3/lib/python3.9/site-packages (from aiohttp<4.0.0,>=3.8.3->langchain) (1.4.0)\n",
      "Requirement already satisfied: aiosignal>=1.1.2 in /Users/arka_bagchi/opt/anaconda3/lib/python3.9/site-packages (from aiohttp<4.0.0,>=3.8.3->langchain) (1.3.1)\n",
      "Requirement already satisfied: idna>=2.8 in /Users/arka_bagchi/opt/anaconda3/lib/python3.9/site-packages (from anyio<4.0->langchain) (2.10)\n",
      "Requirement already satisfied: sniffio>=1.1 in /Users/arka_bagchi/opt/anaconda3/lib/python3.9/site-packages (from anyio<4.0->langchain) (1.2.0)\n",
      "Requirement already satisfied: marshmallow<4.0.0,>=3.18.0 in /Users/arka_bagchi/opt/anaconda3/lib/python3.9/site-packages (from dataclasses-json<0.7,>=0.5.7->langchain) (3.20.1)\n",
      "Requirement already satisfied: typing-inspect<1,>=0.4.0 in /Users/arka_bagchi/opt/anaconda3/lib/python3.9/site-packages (from dataclasses-json<0.7,>=0.5.7->langchain) (0.8.0)\n",
      "Requirement already satisfied: jsonpointer>=1.9 in /Users/arka_bagchi/opt/anaconda3/lib/python3.9/site-packages (from jsonpatch<2.0,>=1.33->langchain) (2.4)\n",
      "Requirement already satisfied: typing-extensions>=4.2.0 in /Users/arka_bagchi/opt/anaconda3/lib/python3.9/site-packages (from pydantic<3,>=1->langchain) (4.5.0)\n",
      "Requirement already satisfied: urllib3<3,>=1.21.1 in /Users/arka_bagchi/opt/anaconda3/lib/python3.9/site-packages (from requests<3,>=2->langchain) (2.0.4)\n",
      "Requirement already satisfied: certifi>=2017.4.17 in /Users/arka_bagchi/opt/anaconda3/lib/python3.9/site-packages (from requests<3,>=2->langchain) (2023.7.22)\n"
     ]
    },
    {
     "name": "stdout",
     "output_type": "stream",
     "text": [
      "Requirement already satisfied: greenlet!=0.4.17 in /Users/arka_bagchi/opt/anaconda3/lib/python3.9/site-packages (from SQLAlchemy<3,>=1.4->langchain) (2.0.1)\n",
      "Requirement already satisfied: packaging>=17.0 in /Users/arka_bagchi/opt/anaconda3/lib/python3.9/site-packages (from marshmallow<4.0.0,>=3.18.0->dataclasses-json<0.7,>=0.5.7->langchain) (23.1)\n",
      "Requirement already satisfied: mypy-extensions>=0.3.0 in /Users/arka_bagchi/opt/anaconda3/lib/python3.9/site-packages (from typing-inspect<1,>=0.4.0->dataclasses-json<0.7,>=0.5.7->langchain) (0.4.3)\n",
      "\u001b[33mDEPRECATION: textract 1.6.5 has a non-standard dependency specifier extract-msg<=0.29.*. pip 23.3 will enforce this behaviour change. A possible replacement is to upgrade to a newer version of textract or contact the author to suggest that they release a version with a conforming dependency specifiers. Discussion can be found at https://github.com/pypa/pip/issues/12063\u001b[0m\u001b[33m\n",
      "\u001b[0mRequirement already satisfied: tiktoken in /Users/arka_bagchi/opt/anaconda3/lib/python3.9/site-packages (0.1.1)\n",
      "Requirement already satisfied: blobfile>=2 in /Users/arka_bagchi/opt/anaconda3/lib/python3.9/site-packages (from tiktoken) (2.1.1)\n",
      "Requirement already satisfied: regex>=2022.1.18 in /Users/arka_bagchi/opt/anaconda3/lib/python3.9/site-packages (from tiktoken) (2022.7.9)\n",
      "Requirement already satisfied: pycryptodomex~=3.8 in /Users/arka_bagchi/opt/anaconda3/lib/python3.9/site-packages (from blobfile>=2->tiktoken) (3.19.0)\n",
      "Requirement already satisfied: urllib3<3,>=1.25.3 in /Users/arka_bagchi/opt/anaconda3/lib/python3.9/site-packages (from blobfile>=2->tiktoken) (2.0.4)\n",
      "Requirement already satisfied: lxml~=4.9 in /Users/arka_bagchi/opt/anaconda3/lib/python3.9/site-packages (from blobfile>=2->tiktoken) (4.9.2)\n",
      "Requirement already satisfied: filelock~=3.0 in /Users/arka_bagchi/opt/anaconda3/lib/python3.9/site-packages (from blobfile>=2->tiktoken) (3.13.1)\n",
      "\u001b[33mDEPRECATION: textract 1.6.5 has a non-standard dependency specifier extract-msg<=0.29.*. pip 23.3 will enforce this behaviour change. A possible replacement is to upgrade to a newer version of textract or contact the author to suggest that they release a version with a conforming dependency specifiers. Discussion can be found at https://github.com/pypa/pip/issues/12063\u001b[0m\u001b[33m\n",
      "\u001b[0mCollecting pypdf\n",
      "  Obtaining dependency information for pypdf from https://files.pythonhosted.org/packages/29/10/055b649e914ad8c5d07113c22805014988825abbeff007b0e89255b481fa/pypdf-3.17.4-py3-none-any.whl.metadata\n",
      "  Downloading pypdf-3.17.4-py3-none-any.whl.metadata (7.5 kB)\n",
      "Requirement already satisfied: typing_extensions>=3.7.4.3 in /Users/arka_bagchi/opt/anaconda3/lib/python3.9/site-packages (from pypdf) (4.5.0)\n",
      "Downloading pypdf-3.17.4-py3-none-any.whl (278 kB)\n",
      "\u001b[2K   \u001b[90m━━━━━━━━━━━━━━━━━━━━━━━━━━━━━━━━━━━━━━━━\u001b[0m \u001b[32m278.2/278.2 kB\u001b[0m \u001b[31m2.3 MB/s\u001b[0m eta \u001b[36m0:00:00\u001b[0m00:01\u001b[0m00:01\u001b[0m\n",
      "\u001b[?25h\u001b[33mDEPRECATION: textract 1.6.5 has a non-standard dependency specifier extract-msg<=0.29.*. pip 23.3 will enforce this behaviour change. A possible replacement is to upgrade to a newer version of textract or contact the author to suggest that they release a version with a conforming dependency specifiers. Discussion can be found at https://github.com/pypa/pip/issues/12063\u001b[0m\u001b[33m\n",
      "\u001b[0mInstalling collected packages: pypdf\n",
      "Successfully installed pypdf-3.17.4\n"
     ]
    }
   ],
   "source": [
    "!pip install openai\n",
    "!pip install pinecone-client\n",
    "!pip install langchain\n",
    "!pip install tiktoken\n",
    "!pip install pypdf"
   ]
  },
  {
   "cell_type": "code",
   "execution_count": 2,
   "id": "5591a924",
   "metadata": {},
   "outputs": [],
   "source": [
    "from langchain.text_splitter import RecursiveCharacterTextSplitter\n",
    "from langchain.document_loaders import PyPDFLoader\n",
    "\n",
    "text_splitter = RecursiveCharacterTextSplitter(chunk_size=1000, chunk_overlap=0)"
   ]
  },
  {
   "cell_type": "code",
   "execution_count": 3,
   "id": "3dbce235",
   "metadata": {},
   "outputs": [],
   "source": [
    "# Load $AXSM's financial report. This may take 1-2 minutes since the PDF is large\n",
    "axsm_10Q = \"https://app.quotemedia.com/data/downloadFiling?webmasterId=90423&ref=317845829&type=PDF&symbol=AXSM&cdn=758892bcc180a6f1fb1b85181dfa0d06&companyName=Axsome+Therapeutics+Inc.&formType=10-Q&formDescription=General+form+for+quarterly+reports+under+Section+13+or+15%28d%29&dateFiled=2023-11-06\"\n",
    "\n",
    "# Create your PDF loader\n",
    "loader = PyPDFLoader(axsm_10Q)\n",
    "\n",
    "# Load the PDF document\n",
    "axsm_documents = loader.load()\n",
    "\n",
    "# Chunk the financial report\n",
    "docs = text_splitter.split_documents(axsm_documents)\n",
    "axsm_texts = [d.page_content for d in docs]"
   ]
  },
  {
   "cell_type": "code",
   "execution_count": 4,
   "id": "bd93c194",
   "metadata": {},
   "outputs": [
    {
     "name": "stderr",
     "output_type": "stream",
     "text": [
      "/Users/arka_bagchi/opt/anaconda3/lib/python3.9/site-packages/pinecone/index.py:4: TqdmExperimentalWarning: Using `tqdm.autonotebook.tqdm` in notebook mode. Use `tqdm.tqdm` instead to force console mode (e.g. in jupyter console)\n",
      "  from tqdm.autonotebook import tqdm\n"
     ]
    }
   ],
   "source": [
    "import pinecone\n",
    "from langchain.embeddings.openai import OpenAIEmbeddings\n",
    "from langchain.vectorstores import Pinecone, Weaviate"
   ]
  },
  {
   "cell_type": "code",
   "execution_count": null,
   "id": "ceceebcc",
   "metadata": {},
   "outputs": [],
   "source": [
    "# The environment should be the one specified next to the API key\n",
    "# in your Pinecone console\n",
    "# Go to this link to create Pinecone index: https://app.pinecone.io/organizations/-Nlee1f4ZjpOS7ERdM6k/projects/gcp-starter:itrgkgp/indexes\n",
    "pinecone.init(api_key=\"YOUR_PINECONE_API_KEY\", environment=\"YOUR_PINECONE_ENVIRONMENT\")\n",
    "index = pinecone.Index(\"YOUR_PINECONE_INDEX\")\n",
    "openai_api_key = 'YOUR_OPENAI_API_KEY'\n",
    "embeddings = OpenAIEmbeddings(openai_api_key=openai_api_key)\n",
    "vectorstore = Pinecone(index, embeddings, \"text\")"
   ]
  },
  {
   "cell_type": "code",
   "execution_count": null,
   "id": "d51eb6b7",
   "metadata": {},
   "outputs": [],
   "source": [
    "from langchain.chat_models import ChatOpenAI\n",
    "from langchain.embeddings import OpenAIEmbeddings\n",
    "from langchain.prompts import ChatPromptTemplate\n",
    "from langchain_core.output_parsers import StrOutputParser\n",
    "from langchain_core.runnables import (\n",
    "    ConfigurableField,\n",
    "    RunnableBinding,\n",
    "    RunnableLambda,\n",
    "    RunnablePassthrough,\n",
    ")"
   ]
  },
  {
   "cell_type": "code",
   "execution_count": null,
   "id": "dd14a72d",
   "metadata": {},
   "outputs": [],
   "source": [
    "# This is basic question-answering chain set up.\n",
    "template = \"\"\"Answer the question based only on the following context:\n",
    "{context}\n",
    "Question: {question}\n",
    "\"\"\"\n",
    "prompt = ChatPromptTemplate.from_template(template)\n",
    "\n",
    "model = ChatOpenAI(openai_api_key=openai_api_key)\n",
    "\n",
    "retriever = vectorstore.as_retriever()"
   ]
  },
  {
   "cell_type": "code",
   "execution_count": null,
   "id": "e2e8bff7",
   "metadata": {},
   "outputs": [],
   "source": [
    "# Here we mark the retriever as having a configurable field. All vectorstore retrievers have search_kwargs as a field. This is just a dictionary, with vectorstore specific fields\n",
    "configurable_retriever = retriever.configurable_fields(\n",
    "    search_kwargs=ConfigurableField(\n",
    "        id=\"search_kwargs\",\n",
    "        name=\"Search Kwargs\",\n",
    "        description=\"The search kwargs to use\",\n",
    "    )\n",
    ")"
   ]
  },
  {
   "cell_type": "code",
   "execution_count": null,
   "id": "7697ba7b",
   "metadata": {},
   "outputs": [],
   "source": [
    "# Create the chain\n",
    "chain = (\n",
    "    {\"context\": configurable_retriever, \"question\": RunnablePassthrough()}\n",
    "    | prompt\n",
    "    | model\n",
    "    | StrOutputParser()\n",
    ")"
   ]
  },
  {
   "cell_type": "markdown",
   "id": "f7772e55",
   "metadata": {},
   "source": [
    "Now, ask questions by ticker."
   ]
  },
  {
   "cell_type": "code",
   "execution_count": null,
   "id": "d40ed058",
   "metadata": {},
   "outputs": [],
   "source": [
    "chain.invoke(\n",
    "    \"What was revenue in July 2023?\",\n",
    "    config={\"configurable\": {\"search_kwargs\": {\"namespace\": \"AXSM\"}}},\n",
    ")"
   ]
  },
  {
   "cell_type": "code",
   "execution_count": null,
   "id": "bb313494",
   "metadata": {},
   "outputs": [],
   "source": []
  }
 ],
 "metadata": {
  "kernelspec": {
   "display_name": "Python 3 (ipykernel)",
   "language": "python",
   "name": "python3"
  },
  "language_info": {
   "codemirror_mode": {
    "name": "ipython",
    "version": 3
   },
   "file_extension": ".py",
   "mimetype": "text/x-python",
   "name": "python",
   "nbconvert_exporter": "python",
   "pygments_lexer": "ipython3",
   "version": "3.9.18"
  }
 },
 "nbformat": 4,
 "nbformat_minor": 5
}
