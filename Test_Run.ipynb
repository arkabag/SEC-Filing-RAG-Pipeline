{
 "cells": [
  {
   "cell_type": "code",
   "execution_count": 8,
   "id": "205ecc62",
   "metadata": {},
   "outputs": [
    {
     "name": "stdout",
     "output_type": "stream",
     "text": [
      "-> Question: What are the key highlights from Cassava Science's latest 10-Q filing? Are there any concerns with research misconduct?  \n",
      "\n",
      "Answer: I don't have access to Cassava Sciences' latest 10-Q filing or real-time data. However, I can provide information based on the 10-K form for the fiscal year 2022 that you provided.\n",
      "\n",
      "From the 10-K filing for the fiscal year 2022, Cassava Sciences mentioned several risk factors that could impact their business. Some of the key highlights include:\n",
      "\n",
      "1. **Legal and Regulatory Compliance**: The company is subject to extensive laws and regulations meant to prevent fraud, misconduct, kickbacks, self-dealing, and other abusive practices. Noncompliance with these laws could lead to regulatory sanctions and harm the company's reputation.\n",
      "\n",
      "2. **Dependence on Third Parties**: Cassava Sciences relies on third parties for the supply of raw materials and expects to depend on third-party manufacturers for commercial supply of product candidates. This could affect profit margins and the ability to commercialize medicines in a competitive and timely manner.\n",
      "\n",
      "3. **Potential Misconduct**: There is a risk of fraud or misconduct by employees, principal investigators, consultants, and vendors, which could involve intentional failures, reckless conduct, or unauthorized activities violating laws and regulations.\n",
      "\n",
      "4. **Internal Control over Financial Reporting**: As of December 31, 2022, the company believes their internal control over financial reporting was effective, and no material changes occurred during the last quarter of the year that would materially affect these controls. This assessment was audited by Ernst & Young LLP, affirming the effectiveness of internal controls.\n",
      "\n",
      "5. **Environmental Compliance**: Cassava Sciences is subject to environmental and health and safety laws and believes they comply with these regulations. However, future compliance could result in significant costs, and accidental contamination or injury could lead to liability exceeding the company's resources.\n",
      "\n",
      "6. **Clinical Trial and Data Acceptance Risks**: The company's lead product candidates are undergoing Phase 3 clinical trials, including outside the United States. There is a risk that the FDA and other regulatory authorities may not accept data from these trials, which could affect the ability to obtain approval and commercialize their products.\n",
      "\n",
      "7. **Financial Projections**: The company expects increased general and administrative expenses in 2023 due to higher legal and professional fees relating to ongoing lawsuits, governmental investigations, and higher operating costs.\n",
      "\n",
      "Regarding research misconduct, while the company has outlined the risk of potential misconduct, no specific instances or allegations of research misconduct were detailed in the provided excerpts of the 10-K filing. The risk factor disclosures are standard for pharmaceutical companies, and they highlight the potential for such issues to occur but do not confirm any actual misconduct. If there are concerns or allegations of research misconduct, they would typically be disclosed in the company's filings, including any 10-Q filings. For the latest information on such concerns, one would need to review the most recent SEC filings or company announcements. \n",
      "\n"
     ]
    }
   ],
   "source": [
    "import os\n",
    "\n",
    "# Set up API keys directly\n",
    "KAY_API_KEY = 'Enter API Key Here'  # Replace with actual KAY API key\n",
    "OPENAI_API_KEY = 'Enter API Key Here'  # Replace with actual OpenAI API key\n",
    "\n",
    "# Set the environment variables for the keys\n",
    "os.environ[\"KAY_API_KEY\"] = KAY_API_KEY\n",
    "os.environ[\"OPENAI_API_KEY\"] = OPENAI_API_KEY\n",
    "\n",
    "# Import necessary modules from langchain\n",
    "from langchain.chains import ConversationalRetrievalChain\n",
    "from langchain.chat_models import ChatOpenAI\n",
    "from langchain.retrievers import KayAiRetriever\n",
    "\n",
    "# Set up the ChatOpenAI model and KayAiRetriever\n",
    "model = ChatOpenAI(model_name=\"gpt-4-1106-preview\")  # Ensure no leading/trailing spaces\n",
    "retriever = KayAiRetriever.create(dataset_id=\"company\", data_types=[\"10-Q\"], num_contexts=6)\n",
    "qa = ConversationalRetrievalChain.from_llm(model, retriever=retriever)\n",
    "\n",
    "# Define a more specific query for TSLA's latest 10-K filing\n",
    "questions = [\"What are the key highlights from Cassava Science's latest 10-Q filing? Are there any concerns with research misconduct? \"]\n",
    "chat_history = []\n",
    "\n",
    "# Execute the query and print results\n",
    "for question in questions:\n",
    "    result = qa({\"question\": question, \"chat_history\": chat_history})\n",
    "    chat_history.append((question, result[\"answer\"]))\n",
    "    print(f\"-> Question: {question} \\n\")\n",
    "    print(f\"Answer: {result['answer']} \\n\")\n"
   ]
  },
  {
   "cell_type": "code",
   "execution_count": null,
   "id": "5c5c2067",
   "metadata": {},
   "outputs": [],
   "source": []
  }
 ],
 "metadata": {
  "kernelspec": {
   "display_name": "Python 3 (ipykernel)",
   "language": "python",
   "name": "python3"
  },
  "language_info": {
   "codemirror_mode": {
    "name": "ipython",
    "version": 3
   },
   "file_extension": ".py",
   "mimetype": "text/x-python",
   "name": "python",
   "nbconvert_exporter": "python",
   "pygments_lexer": "ipython3",
   "version": "3.9.18"
  }
 },
 "nbformat": 4,
 "nbformat_minor": 5
}
